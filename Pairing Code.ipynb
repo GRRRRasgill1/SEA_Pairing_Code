{
 "cells": [
  {
   "cell_type": "code",
   "execution_count": 1,
   "id": "4146cae9",
   "metadata": {},
   "outputs": [],
   "source": [
    "from fun import data_in\n",
    "from fun import calculate_score\n",
    "from fun import construct_matrix\n",
    "from fun import pairing\n",
    "from fun import dup_mentors\n",
    "from fun import next_pairing\n",
    "from fun import reformat_csv\n",
    "import pandas as pd\n",
    "import numpy as np"
   ]
  },
  {
   "cell_type": "code",
   "execution_count": 2,
   "id": "1d0a2043",
   "metadata": {},
   "outputs": [],
   "source": [
    "# Import Mentees and Mentors Pairing Survey Data as nested Dictionaries\n",
    "Mentees = data_in('Game_Day-Mentees.csv',\"Mentees\")\n",
    "Mentors = data_in('Game_Day-Mentors.csv',\"Mentors\")\n"
   ]
  },
  {
   "cell_type": "code",
   "execution_count": 3,
   "id": "91a54c0e",
   "metadata": {},
   "outputs": [],
   "source": [
    "Mentees_names = list(Mentees.keys())\n",
    "Mentors_names = list(Mentors.keys())\n",
    "Mentee_name = Mentees_names[1]\n",
    "Mentor_name = Mentors_names[10]\n",
    "Mentee = Mentees[Mentee_name]\n",
    "Mentor = Mentors[Mentor_name]"
   ]
  },
  {
   "cell_type": "code",
   "execution_count": 4,
   "id": "73c0657b",
   "metadata": {},
   "outputs": [],
   "source": [
    "# Construct Matrix of Pairing Scores for Mentees and Mentors\n",
    "Matrix = construct_matrix(Mentors,Mentees,Mentors_names,Mentees_names)"
   ]
  },
  {
   "cell_type": "code",
   "execution_count": 5,
   "id": "ea20c17f",
   "metadata": {},
   "outputs": [],
   "source": [
    "# First Round of Pairing based on Scores\n",
    "(pair,leftover_Mentees) = pairing(Matrix,Mentors_names)\n",
    "leftover_Mentees = list(leftover_Mentees.index)"
   ]
  },
  {
   "cell_type": "code",
   "execution_count": 6,
   "id": "86c9168b",
   "metadata": {},
   "outputs": [],
   "source": [
    "# Find Mentors who volunteered for multiple Mentees\n",
    "Mentors_names = list(Mentors.keys())\n",
    "(Num_2mentees,Num_3mentees) = dup_mentors(Mentors_names,Mentors)"
   ]
  },
  {
   "cell_type": "code",
   "execution_count": 7,
   "id": "d4d6e324",
   "metadata": {},
   "outputs": [],
   "source": [
    "#if any Mentees remain unpaired pair them\n",
    "if len(leftover_Mentees) > 0:\n",
    "    (pair2,leftover_Mentees2) = next_pairing(Matrix,Mentors_names,Num_2mentees,Mentors,Mentees,leftover_Mentees)\n",
    "    pair = pair | pair2\n",
    "if len(leftover_Mentees2) > 0:\n",
    "    (pair3,leftover_Mentees3) = next_pairing(Matrix,Mentors_names,Num_3mentees,Mentors,Mentees,leftover_Mentees)\n",
    "    pair = pair  | pair3"
   ]
  },
  {
   "cell_type": "code",
   "execution_count": 8,
   "id": "944e2bb6",
   "metadata": {},
   "outputs": [],
   "source": [
    "# Reformat and export results as csv\n",
    "Final_list = reformat_csv(pair,Mentees,Mentors)\n",
    "np.savetxt('Results.csv', Final_list, delimiter=',', fmt=['%s','%s','%s','%s'])"
   ]
  },
  {
   "cell_type": "code",
   "execution_count": null,
   "id": "438fc748",
   "metadata": {},
   "outputs": [],
   "source": []
  }
 ],
 "metadata": {
  "kernelspec": {
   "display_name": "Python 3",
   "language": "python",
   "name": "python3"
  },
  "language_info": {
   "codemirror_mode": {
    "name": "ipython",
    "version": 3
   },
   "file_extension": ".py",
   "mimetype": "text/x-python",
   "name": "python",
   "nbconvert_exporter": "python",
   "pygments_lexer": "ipython3",
   "version": "3.9.4"
  }
 },
 "nbformat": 4,
 "nbformat_minor": 5
}
